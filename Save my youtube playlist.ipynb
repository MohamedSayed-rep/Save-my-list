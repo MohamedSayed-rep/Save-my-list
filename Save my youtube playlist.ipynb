{
 "cells": [
  {
   "cell_type": "markdown",
   "metadata": {},
   "source": [
    "# Save my youtube playlist "
   ]
  },
  {
   "cell_type": "code",
   "execution_count": 5,
   "metadata": {
    "ExecuteTime": {
     "end_time": "2021-08-28T22:02:45.779073Z",
     "start_time": "2021-08-28T22:02:45.759083Z"
    }
   },
   "outputs": [],
   "source": [
    "from bs4 import BeautifulSoup\n",
    "import pandas as pd\n",
    "import requests\n",
    "import csv\n",
    "import re "
   ]
  },
  {
   "cell_type": "markdown",
   "metadata": {},
   "source": [
    "## # Reading html file\n"
   ]
  },
  {
   "cell_type": "code",
   "execution_count": 7,
   "metadata": {
    "ExecuteTime": {
     "end_time": "2021-08-28T22:03:07.666826Z",
     "start_time": "2021-08-28T22:03:00.846077Z"
    }
   },
   "outputs": [],
   "source": [
    "with open(\"Classical Music Archive - YouTube.html\",encoding=\"utf8\") as file :\n",
    "    \n",
    "    soup = BeautifulSoup(file,\"html.parser\")\n",
    "    \n"
   ]
  },
  {
   "cell_type": "markdown",
   "metadata": {},
   "source": [
    "## # Test  for one video"
   ]
  },
  {
   "cell_type": "code",
   "execution_count": 20,
   "metadata": {
    "ExecuteTime": {
     "end_time": "2021-08-28T22:04:46.397199Z",
     "start_time": "2021-08-28T22:04:46.064824Z"
    },
    "scrolled": true
   },
   "outputs": [],
   "source": [
    "match = soup.find(\"ytd-playlist-video-renderer\",class_=\"style-scope ytd-playlist-video-list-renderer\")\n"
   ]
  },
  {
   "cell_type": "code",
   "execution_count": 9,
   "metadata": {
    "ExecuteTime": {
     "end_time": "2021-08-28T22:03:15.966423Z",
     "start_time": "2021-08-28T22:03:15.947432Z"
    }
   },
   "outputs": [
    {
     "name": "stdout",
     "output_type": "stream",
     "text": [
      "Behind the Doodle: Celebrating Johann Sebastian Bach\n"
     ]
    }
   ],
   "source": [
    "match_ = match.find(\"a\",id =\"video-title\", class_=\"yt-simple-endpoint style-scope ytd-playlist-video-renderer\")\n",
    "print(match_[\"title\"])"
   ]
  },
  {
   "cell_type": "code",
   "execution_count": 10,
   "metadata": {
    "ExecuteTime": {
     "end_time": "2021-08-28T22:03:16.518212Z",
     "start_time": "2021-08-28T22:03:16.485238Z"
    }
   },
   "outputs": [
    {
     "data": {
      "text/plain": [
       "'GoogleDoodles'"
      ]
     },
     "execution_count": 10,
     "metadata": {},
     "output_type": "execute_result"
    }
   ],
   "source": [
    "match__ = match.find(\"a\",class_=\"yt-simple-endpoint style-scope yt-formatted-string\")\n",
    "match__.text"
   ]
  },
  {
   "cell_type": "code",
   "execution_count": 11,
   "metadata": {
    "ExecuteTime": {
     "end_time": "2021-08-28T22:03:16.863624Z",
     "start_time": "2021-08-28T22:03:16.853630Z"
    }
   },
   "outputs": [
    {
     "data": {
      "text/plain": [
       "'Behind the Doodle: Celebrating Johann Sebastian Bach by GoogleDoodles 2 years ago 2 minutes, 44 seconds'"
      ]
     },
     "execution_count": 11,
     "metadata": {},
     "output_type": "execute_result"
    }
   ],
   "source": [
    "match_[\"aria-label\"]"
   ]
  },
  {
   "cell_type": "code",
   "execution_count": 12,
   "metadata": {
    "ExecuteTime": {
     "end_time": "2021-08-28T22:03:17.114708Z",
     "start_time": "2021-08-28T22:03:17.101715Z"
    }
   },
   "outputs": [
    {
     "data": {
      "text/plain": [
       "'2 minutes, 44 seconds'"
      ]
     },
     "execution_count": 12,
     "metadata": {},
     "output_type": "execute_result"
    }
   ],
   "source": [
    "# or\n",
    "match___= match.find(\"span\",class_=\"style-scope ytd-thumbnail-overlay-time-status-renderer\")\n",
    "match___[\"aria-label\"]"
   ]
  },
  {
   "cell_type": "code",
   "execution_count": 13,
   "metadata": {
    "ExecuteTime": {
     "end_time": "2021-08-28T22:03:17.337153Z",
     "start_time": "2021-08-28T22:03:17.322166Z"
    }
   },
   "outputs": [],
   "source": [
    "duration = match___[\"aria-label\"]\n",
    "\n",
    "if re.search(\"hour\",duration):\n",
    "   \n",
    "    for item in re.finditer(\"(?P<hours>\\d+) (hours?,) (?P<minutes>\\d+) (minutes?,) (?P<seconds>\\d+) (seconds?)\",duration):\n",
    "        \n",
    "        hours =   int(item[\"hours\"])\n",
    "        \n",
    "        minutes = int(item[\"minutes\"])\n",
    "\n",
    "        seconds = int(item[\"seconds\"])   \n",
    "        \n",
    "\n",
    "else:\n",
    "    \n",
    "    \n",
    "    for item in re.finditer(\"(?P<minutes>\\d+) (minutes?,) (?P<seconds>\\d+) (seconds?)\",duration):\n",
    "        \n",
    "        \n",
    "        hours = 0\n",
    "        \n",
    "        minutes = int(item[\"minutes\"])\n",
    "\n",
    "        seconds = int(item[\"seconds\"]) "
   ]
  },
  {
   "cell_type": "code",
   "execution_count": 16,
   "metadata": {
    "ExecuteTime": {
     "end_time": "2021-08-28T22:03:18.307532Z",
     "start_time": "2021-08-28T22:03:18.287547Z"
    }
   },
   "outputs": [
    {
     "data": {
      "text/plain": [
       "'0:2:44'"
      ]
     },
     "execution_count": 16,
     "metadata": {},
     "output_type": "execute_result"
    }
   ],
   "source": [
    "# or \n",
    "\n",
    "duration = match___[\"aria-label\"]\n",
    "\n",
    "if re.search(\"hour\",duration):\n",
    "   \n",
    "    for item in re.finditer(\"(?P<hours>\\d+) (hours?,) (?P<minutes>\\d+) (minutes?,) (?P<seconds>\\d+) (seconds?)\",duration):\n",
    "        \n",
    "        hours =   item[\"hours\"]\n",
    "        \n",
    "        minutes = item[\"minutes\"]\n",
    "\n",
    "        seconds = item[\"seconds\"]   \n",
    "        \n",
    "\n",
    "else:\n",
    "    \n",
    "    \n",
    "    for item in re.finditer(\"(?P<minutes>\\d+) (minutes?,) (?P<seconds>\\d+) (seconds?)\",duration):\n",
    "        \n",
    "        \n",
    "        hours = \"0\"\n",
    "        \n",
    "        minutes = item[\"minutes\"]\n",
    "\n",
    "        seconds = item[\"seconds\"]\n",
    "        \n",
    "        \n",
    "duration_ = hours + \":\" + minutes + \":\" + seconds "
   ]
  },
  {
   "cell_type": "markdown",
   "metadata": {},
   "source": [
    "### # Time to loop "
   ]
  },
  {
   "cell_type": "code",
   "execution_count": 17,
   "metadata": {
    "ExecuteTime": {
     "end_time": "2021-08-28T22:03:20.198407Z",
     "start_time": "2021-08-28T22:03:19.475852Z"
    }
   },
   "outputs": [],
   "source": [
    "Title_Channel_Url_ID__duration_Status = []\n",
    "\n",
    "\n",
    "match = soup.findAll(\"ytd-playlist-video-renderer\",class_=\"style-scope ytd-playlist-video-list-renderer\")\n",
    "\n",
    "\n",
    "\n",
    "for item in match:\n",
    "    \n",
    "    match_ = item.find(\"a\",id =\"video-title\", class_=\"yt-simple-endpoint style-scope ytd-playlist-video-renderer\")\n",
    "    match_[\"title\"]\n",
    "    \n",
    "    Title = match_[\"title\"]\n",
    "    \n",
    "    if Title == \"[Private video]\":\n",
    "       \n",
    "       Status = \"Private\"\n",
    "        \n",
    "    elif Title == \"[Deleted video]\":\n",
    "   \n",
    "        Status = \"Deleted\"\n",
    "    \n",
    "    else:\n",
    "        \n",
    "        Status = \"Found\"\n",
    "        \n",
    "        \n",
    "    try:\n",
    "        \n",
    "        match__ = item.find(\"a\",class_=\"yt-simple-endpoint style-scope yt-formatted-string\")\n",
    "        Channel = match__.text\n",
    "     \n",
    "        \n",
    "        \n",
    "    except:\n",
    "        \n",
    "        \n",
    "        Channel = None \n",
    "    \n",
    "    try:\n",
    "        \n",
    "        match___= item.find(\"span\",class_=\"style-scope ytd-thumbnail-overlay-time-status-renderer\")\n",
    "     \n",
    "        duration = match___[\"aria-label\"]\n",
    "   \n",
    "        \n",
    "\n",
    "        if re.search(\"hour\",duration):\n",
    "\n",
    "            for item in re.finditer(\"(?P<hours>\\d+) (hours?,) (?P<minutes>\\d+) (minutes?,) (?P<seconds>\\d+) (seconds?)\",duration):\n",
    "\n",
    "                hours =   item[\"hours\"]\n",
    "\n",
    "                minutes = item[\"minutes\"]\n",
    "\n",
    "                seconds = item[\"seconds\"]   \n",
    "\n",
    "\n",
    "        else:\n",
    "\n",
    "\n",
    "            for item in re.finditer(\"(?P<minutes>\\d+) (minutes?,) (?P<seconds>\\d+) (seconds?)\",duration):\n",
    "\n",
    "\n",
    "                hours = \"0\"\n",
    "\n",
    "                minutes = item[\"minutes\"]\n",
    "\n",
    "                seconds = item[\"seconds\"]\n",
    "\n",
    " \n",
    "        duration_ = \"{}:{}:{}\".format(hours,minutes,seconds)\n",
    "    \n",
    "        \n",
    "    except:\n",
    "        \n",
    "        duration_ = None\n",
    "\n",
    "\n",
    "    \n",
    "\n",
    "        \n",
    "     \n",
    "    Url = match_[\"href\"]\n",
    "   \n",
    "    \n",
    "    ID = re.findall(\"(www.youtube.com/watch\\?v=)([\\w -?]*)(&list)\",Url)[0][1]\n",
    "    \n",
    "\n",
    "    Title_Channel_Url_ID__duration_Status.append([Title,Channel,Url,ID,duration_,Status])"
   ]
  },
  {
   "cell_type": "markdown",
   "metadata": {},
   "source": [
    "##  # Writing to csv"
   ]
  },
  {
   "cell_type": "code",
   "execution_count": 18,
   "metadata": {
    "ExecuteTime": {
     "end_time": "2021-08-28T22:03:22.090442Z",
     "start_time": "2021-08-28T22:03:22.068455Z"
    }
   },
   "outputs": [],
   "source": [
    "with open (\"Classical Music Archive.csv\",\"w\",newline='',encoding=\"utf8\") as file:\n",
    "    \n",
    "    writer = csv.writer(file)\n",
    "    # write file headers\n",
    "    writer.writerow([\"Title\",\"Channel\",\"Url\",\"ID\",\"duration\",\"Status\"])\n",
    "    # for writing multiple rows at once \n",
    "    writer.writerows(Title_Channel_Url_ID__duration_Status)    "
   ]
  },
  {
   "cell_type": "markdown",
   "metadata": {},
   "source": [
    "## # Check \n",
    "#### make sure csv file was written without errors"
   ]
  },
  {
   "cell_type": "code",
   "execution_count": 19,
   "metadata": {
    "ExecuteTime": {
     "end_time": "2021-08-28T22:03:23.768764Z",
     "start_time": "2021-08-28T22:03:23.308978Z"
    }
   },
   "outputs": [
    {
     "data": {
      "text/html": [
       "<div>\n",
       "<style scoped>\n",
       "    .dataframe tbody tr th:only-of-type {\n",
       "        vertical-align: middle;\n",
       "    }\n",
       "\n",
       "    .dataframe tbody tr th {\n",
       "        vertical-align: top;\n",
       "    }\n",
       "\n",
       "    .dataframe thead th {\n",
       "        text-align: right;\n",
       "    }\n",
       "</style>\n",
       "<table border=\"1\" class=\"dataframe\">\n",
       "  <thead>\n",
       "    <tr style=\"text-align: right;\">\n",
       "      <th></th>\n",
       "      <th>Title</th>\n",
       "      <th>Channel</th>\n",
       "      <th>Url</th>\n",
       "      <th>ID</th>\n",
       "      <th>duration</th>\n",
       "      <th>Status</th>\n",
       "    </tr>\n",
       "  </thead>\n",
       "  <tbody>\n",
       "    <tr>\n",
       "      <th>0</th>\n",
       "      <td>Behind the Doodle: Celebrating Johann Sebastia...</td>\n",
       "      <td>GoogleDoodles</td>\n",
       "      <td>https://www.youtube.com/watch?v=XBfYPp6KF2g&amp;li...</td>\n",
       "      <td>XBfYPp6KF2g</td>\n",
       "      <td>0:2:44</td>\n",
       "      <td>Found</td>\n",
       "    </tr>\n",
       "    <tr>\n",
       "      <th>1</th>\n",
       "      <td>J. S. Bach: Piano Concerto No.5 in F minor, BW...</td>\n",
       "      <td>Michal Šupák</td>\n",
       "      <td>https://www.youtube.com/watch?v=z4cmCIz1aJw&amp;li...</td>\n",
       "      <td>z4cmCIz1aJw</td>\n",
       "      <td>0:10:56</td>\n",
       "      <td>Found</td>\n",
       "    </tr>\n",
       "    <tr>\n",
       "      <th>2</th>\n",
       "      <td>Johann Sebastian Bach - Keyboard Concerto #5 i...</td>\n",
       "      <td>Robert Butts</td>\n",
       "      <td>https://www.youtube.com/watch?v=kOO7EuUOiNQ&amp;li...</td>\n",
       "      <td>kOO7EuUOiNQ</td>\n",
       "      <td>0:10:9</td>\n",
       "      <td>Found</td>\n",
       "    </tr>\n",
       "    <tr>\n",
       "      <th>3</th>\n",
       "      <td>Glenn Gould and Leonard Bernstein: Bach's Keyb...</td>\n",
       "      <td>AntPDC</td>\n",
       "      <td>https://www.youtube.com/watch?v=9ZX_XCYokQo&amp;li...</td>\n",
       "      <td>9ZX_XCYokQo</td>\n",
       "      <td>0:14:14</td>\n",
       "      <td>Found</td>\n",
       "    </tr>\n",
       "    <tr>\n",
       "      <th>4</th>\n",
       "      <td>Bach: Piano Concerto No. 5</td>\n",
       "      <td>marce11o</td>\n",
       "      <td>https://www.youtube.com/watch?v=JrcV-ihbWO8&amp;li...</td>\n",
       "      <td>JrcV-ihbWO8</td>\n",
       "      <td>0:2:56</td>\n",
       "      <td>Found</td>\n",
       "    </tr>\n",
       "    <tr>\n",
       "      <th>...</th>\n",
       "      <td>...</td>\n",
       "      <td>...</td>\n",
       "      <td>...</td>\n",
       "      <td>...</td>\n",
       "      <td>...</td>\n",
       "      <td>...</td>\n",
       "    </tr>\n",
       "    <tr>\n",
       "      <th>94</th>\n",
       "      <td>أنطون فيبرن، رباعية وترية (1905).</td>\n",
       "      <td>ارشيف الموسيقى الكلاسيكية</td>\n",
       "      <td>https://www.youtube.com/watch?v=f1UjZyjyf2w&amp;li...</td>\n",
       "      <td>f1UjZyjyf2w</td>\n",
       "      <td>0:14:41</td>\n",
       "      <td>Found</td>\n",
       "    </tr>\n",
       "    <tr>\n",
       "      <th>95</th>\n",
       "      <td>يوهان سيباستيان باخ، الشاكون | ترتيب للأوركستر...</td>\n",
       "      <td>ارشيف الموسيقى الكلاسيكية</td>\n",
       "      <td>https://www.youtube.com/watch?v=dQMwIcfT-SY&amp;li...</td>\n",
       "      <td>dQMwIcfT-SY</td>\n",
       "      <td>0:17:29</td>\n",
       "      <td>Found</td>\n",
       "    </tr>\n",
       "    <tr>\n",
       "      <th>96</th>\n",
       "      <td>ارنولد شوينبيرج، ليلة التجلي | سُداسية وترية |...</td>\n",
       "      <td>ارشيف الموسيقى الكلاسيكية</td>\n",
       "      <td>https://www.youtube.com/watch?v=Hr84hZTO6FI&amp;li...</td>\n",
       "      <td>Hr84hZTO6FI</td>\n",
       "      <td>0:29:33</td>\n",
       "      <td>Found</td>\n",
       "    </tr>\n",
       "    <tr>\n",
       "      <th>97</th>\n",
       "      <td>لودفيغ فان بيتهوفن، موسيقى من العصر الرومنسي |...</td>\n",
       "      <td>ارشيف الموسيقى الكلاسيكية</td>\n",
       "      <td>https://www.youtube.com/watch?v=LMyK4Xyumb8&amp;li...</td>\n",
       "      <td>LMyK4Xyumb8</td>\n",
       "      <td>0:35:33</td>\n",
       "      <td>Found</td>\n",
       "    </tr>\n",
       "    <tr>\n",
       "      <th>98</th>\n",
       "      <td>جورج بيزيه، أوبرا كارمن | مُقدمة الفصل الأول |...</td>\n",
       "      <td>ارشيف الموسيقى الكلاسيكية</td>\n",
       "      <td>https://www.youtube.com/watch?v=kqrsLFAsNmg&amp;li...</td>\n",
       "      <td>kqrsLFAsNmg</td>\n",
       "      <td>0:2:27</td>\n",
       "      <td>Found</td>\n",
       "    </tr>\n",
       "  </tbody>\n",
       "</table>\n",
       "<p>99 rows × 6 columns</p>\n",
       "</div>"
      ],
      "text/plain": [
       "                                                Title  \\\n",
       "0   Behind the Doodle: Celebrating Johann Sebastia...   \n",
       "1   J. S. Bach: Piano Concerto No.5 in F minor, BW...   \n",
       "2   Johann Sebastian Bach - Keyboard Concerto #5 i...   \n",
       "3   Glenn Gould and Leonard Bernstein: Bach's Keyb...   \n",
       "4                          Bach: Piano Concerto No. 5   \n",
       "..                                                ...   \n",
       "94                  أنطون فيبرن، رباعية وترية (1905).   \n",
       "95  يوهان سيباستيان باخ، الشاكون | ترتيب للأوركستر...   \n",
       "96  ارنولد شوينبيرج، ليلة التجلي | سُداسية وترية |...   \n",
       "97  لودفيغ فان بيتهوفن، موسيقى من العصر الرومنسي |...   \n",
       "98  جورج بيزيه، أوبرا كارمن | مُقدمة الفصل الأول |...   \n",
       "\n",
       "                      Channel  \\\n",
       "0               GoogleDoodles   \n",
       "1                Michal Šupák   \n",
       "2                Robert Butts   \n",
       "3                      AntPDC   \n",
       "4                    marce11o   \n",
       "..                        ...   \n",
       "94  ارشيف الموسيقى الكلاسيكية   \n",
       "95  ارشيف الموسيقى الكلاسيكية   \n",
       "96  ارشيف الموسيقى الكلاسيكية   \n",
       "97  ارشيف الموسيقى الكلاسيكية   \n",
       "98  ارشيف الموسيقى الكلاسيكية   \n",
       "\n",
       "                                                  Url           ID duration  \\\n",
       "0   https://www.youtube.com/watch?v=XBfYPp6KF2g&li...  XBfYPp6KF2g   0:2:44   \n",
       "1   https://www.youtube.com/watch?v=z4cmCIz1aJw&li...  z4cmCIz1aJw  0:10:56   \n",
       "2   https://www.youtube.com/watch?v=kOO7EuUOiNQ&li...  kOO7EuUOiNQ   0:10:9   \n",
       "3   https://www.youtube.com/watch?v=9ZX_XCYokQo&li...  9ZX_XCYokQo  0:14:14   \n",
       "4   https://www.youtube.com/watch?v=JrcV-ihbWO8&li...  JrcV-ihbWO8   0:2:56   \n",
       "..                                                ...          ...      ...   \n",
       "94  https://www.youtube.com/watch?v=f1UjZyjyf2w&li...  f1UjZyjyf2w  0:14:41   \n",
       "95  https://www.youtube.com/watch?v=dQMwIcfT-SY&li...  dQMwIcfT-SY  0:17:29   \n",
       "96  https://www.youtube.com/watch?v=Hr84hZTO6FI&li...  Hr84hZTO6FI  0:29:33   \n",
       "97  https://www.youtube.com/watch?v=LMyK4Xyumb8&li...  LMyK4Xyumb8  0:35:33   \n",
       "98  https://www.youtube.com/watch?v=kqrsLFAsNmg&li...  kqrsLFAsNmg   0:2:27   \n",
       "\n",
       "   Status  \n",
       "0   Found  \n",
       "1   Found  \n",
       "2   Found  \n",
       "3   Found  \n",
       "4   Found  \n",
       "..    ...  \n",
       "94  Found  \n",
       "95  Found  \n",
       "96  Found  \n",
       "97  Found  \n",
       "98  Found  \n",
       "\n",
       "[99 rows x 6 columns]"
      ]
     },
     "execution_count": 19,
     "metadata": {},
     "output_type": "execute_result"
    }
   ],
   "source": [
    "df = pd.read_csv(\"Classical Music Archive.csv\")\n",
    "df"
   ]
  }
 ],
 "metadata": {
  "kernelspec": {
   "display_name": "Python 3",
   "language": "python",
   "name": "python3"
  },
  "language_info": {
   "codemirror_mode": {
    "name": "ipython",
    "version": 3
   },
   "file_extension": ".py",
   "mimetype": "text/x-python",
   "name": "python",
   "nbconvert_exporter": "python",
   "pygments_lexer": "ipython3",
   "version": "3.8.3"
  },
  "varInspector": {
   "cols": {
    "lenName": 16,
    "lenType": 16,
    "lenVar": 40
   },
   "kernels_config": {
    "python": {
     "delete_cmd_postfix": "",
     "delete_cmd_prefix": "del ",
     "library": "var_list.py",
     "varRefreshCmd": "print(var_dic_list())"
    },
    "r": {
     "delete_cmd_postfix": ") ",
     "delete_cmd_prefix": "rm(",
     "library": "var_list.r",
     "varRefreshCmd": "cat(var_dic_list()) "
    }
   },
   "types_to_exclude": [
    "module",
    "function",
    "builtin_function_or_method",
    "instance",
    "_Feature"
   ],
   "window_display": false
  }
 },
 "nbformat": 4,
 "nbformat_minor": 2
}
